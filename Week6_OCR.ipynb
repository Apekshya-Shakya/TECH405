{
  "metadata": {
    "kernelspec": {
      "language": "python",
      "display_name": "Python 3",
      "name": "python3"
    },
    "language_info": {
      "pygments_lexer": "ipython3",
      "nbconvert_exporter": "python",
      "version": "3.6.4",
      "file_extension": ".py",
      "codemirror_mode": {
        "name": "ipython",
        "version": 3
      },
      "name": "python",
      "mimetype": "text/x-python"
    },
    "colab": {
      "provenance": [],
      "include_colab_link": true
    }
  },
  "nbformat_minor": 0,
  "nbformat": 4,
  "cells": [
    {
      "cell_type": "markdown",
      "metadata": {
        "id": "view-in-github",
        "colab_type": "text"
      },
      "source": [
        "<a href=\"https://colab.research.google.com/github/Apekshya-Shakya/TECH405/blob/main/Week6_OCR.ipynb\" target=\"_parent\"><img src=\"https://colab.research.google.com/assets/colab-badge.svg\" alt=\"Open In Colab\"/></a>"
      ]
    },
    {
      "source": [
        "\n",
        "import kagglehub\n",
        "preatcher_standard_ocr_dataset_path = kagglehub.dataset_download('preatcher/standard-ocr-dataset')\n",
        "\n",
        "print('Data source import complete.')\n"
      ],
      "metadata": {
        "colab": {
          "base_uri": "https://localhost:8080/"
        },
        "id": "zivazlMYGmtv",
        "outputId": "1b3b594e-e8c7-4908-d18b-77f64fd26916"
      },
      "cell_type": "code",
      "outputs": [
        {
          "output_type": "stream",
          "name": "stdout",
          "text": [
            "Downloading from https://www.kaggle.com/api/v1/datasets/download/preatcher/standard-ocr-dataset?dataset_version_number=2...\n"
          ]
        },
        {
          "output_type": "stream",
          "name": "stderr",
          "text": [
            "100%|██████████| 46.2M/46.2M [00:02<00:00, 17.5MB/s]"
          ]
        },
        {
          "output_type": "stream",
          "name": "stdout",
          "text": [
            "Extracting files...\n"
          ]
        },
        {
          "output_type": "stream",
          "name": "stderr",
          "text": [
            "\n"
          ]
        },
        {
          "output_type": "stream",
          "name": "stdout",
          "text": [
            "Data source import complete.\n"
          ]
        }
      ],
      "execution_count": 1
    },
    {
      "cell_type": "code",
      "source": [
        "import os\n",
        "import cv2\n",
        "import numpy as np\n",
        "\n",
        "images = []\n",
        "labels = []\n",
        "\n",
        "\n",
        "path = preatcher_standard_ocr_dataset_path\n",
        "\n",
        "path = os.path.join(path, 'data', 'training_data')\n",
        "\n",
        "dir_list = os.listdir(path)\n",
        "for i in dir_list:\n",
        "  dir = os.path.join(path, i)\n",
        "  file_list = os.listdir(dir)\n",
        "  for j in file_list:\n",
        "    files = os.path.join(dir, j)\n",
        "    img = cv2.imread(files)\n",
        "    img = cv2.resize(img, (64,64))\n",
        "    img = np.array(img, dtype=np.float32)\n",
        "    img = img/255\n",
        "    images.append(img)\n",
        "    labels.append(i)"
      ],
      "metadata": {
        "id": "cyWhBU5QAS3L",
        "execution": {
          "iopub.status.busy": "2023-08-05T10:46:38.942544Z",
          "iopub.execute_input": "2023-08-05T10:46:38.943021Z",
          "iopub.status.idle": "2023-08-05T10:47:42.171353Z",
          "shell.execute_reply.started": "2023-08-05T10:46:38.942995Z",
          "shell.execute_reply": "2023-08-05T10:47:42.170137Z"
        },
        "trusted": true
      },
      "execution_count": 2,
      "outputs": []
    },
    {
      "cell_type": "code",
      "source": [
        "X = np.array(images)\n",
        "len(X)"
      ],
      "metadata": {
        "id": "49Cr2cderNq0",
        "outputId": "9fbad5ba-2b26-4951-9d7e-ea51ef41844b",
        "execution": {
          "iopub.status.busy": "2023-08-05T10:51:12.9236Z",
          "iopub.execute_input": "2023-08-05T10:51:12.924004Z",
          "iopub.status.idle": "2023-08-05T10:51:13.288677Z",
          "shell.execute_reply.started": "2023-08-05T10:51:12.923973Z",
          "shell.execute_reply": "2023-08-05T10:51:13.287783Z"
        },
        "trusted": true,
        "colab": {
          "base_uri": "https://localhost:8080/"
        }
      },
      "execution_count": 3,
      "outputs": [
        {
          "output_type": "execute_result",
          "data": {
            "text/plain": [
              "20628"
            ]
          },
          "metadata": {},
          "execution_count": 3
        }
      ]
    },
    {
      "cell_type": "code",
      "source": [
        "X.shape"
      ],
      "metadata": {
        "id": "C_2u-sHt_B7a",
        "outputId": "a6faaf91-5030-4b77-9c9d-c4e18bc22942",
        "execution": {
          "iopub.status.busy": "2023-08-05T10:51:13.7477Z",
          "iopub.execute_input": "2023-08-05T10:51:13.74804Z",
          "iopub.status.idle": "2023-08-05T10:51:13.754524Z",
          "shell.execute_reply.started": "2023-08-05T10:51:13.748011Z",
          "shell.execute_reply": "2023-08-05T10:51:13.753321Z"
        },
        "trusted": true,
        "colab": {
          "base_uri": "https://localhost:8080/"
        }
      },
      "execution_count": 4,
      "outputs": [
        {
          "output_type": "execute_result",
          "data": {
            "text/plain": [
              "(20628, 64, 64, 3)"
            ]
          },
          "metadata": {},
          "execution_count": 4
        }
      ]
    },
    {
      "cell_type": "code",
      "source": [
        "y = np.array(labels)\n",
        "len(y)"
      ],
      "metadata": {
        "id": "KeAbByV5qYz-",
        "outputId": "ea4c3b54-6c62-43d1-ea80-693b08445fbf",
        "execution": {
          "iopub.status.busy": "2023-08-05T10:51:14.529207Z",
          "iopub.execute_input": "2023-08-05T10:51:14.529576Z",
          "iopub.status.idle": "2023-08-05T10:51:14.543068Z",
          "shell.execute_reply.started": "2023-08-05T10:51:14.529549Z",
          "shell.execute_reply": "2023-08-05T10:51:14.542018Z"
        },
        "trusted": true,
        "colab": {
          "base_uri": "https://localhost:8080/"
        }
      },
      "execution_count": 5,
      "outputs": [
        {
          "output_type": "execute_result",
          "data": {
            "text/plain": [
              "20628"
            ]
          },
          "metadata": {},
          "execution_count": 5
        }
      ]
    },
    {
      "cell_type": "code",
      "source": [
        "y.shape"
      ],
      "metadata": {
        "id": "JB3dn4OqzN_T",
        "outputId": "1098bf28-c5d0-4d60-86a9-cced5948a339",
        "execution": {
          "iopub.status.busy": "2023-08-05T10:51:15.478945Z",
          "iopub.execute_input": "2023-08-05T10:51:15.47946Z",
          "iopub.status.idle": "2023-08-05T10:51:15.485975Z",
          "shell.execute_reply.started": "2023-08-05T10:51:15.479428Z",
          "shell.execute_reply": "2023-08-05T10:51:15.484893Z"
        },
        "trusted": true,
        "colab": {
          "base_uri": "https://localhost:8080/"
        }
      },
      "execution_count": 6,
      "outputs": [
        {
          "output_type": "execute_result",
          "data": {
            "text/plain": [
              "(20628,)"
            ]
          },
          "metadata": {},
          "execution_count": 6
        }
      ]
    },
    {
      "cell_type": "code",
      "source": [
        "from sklearn.preprocessing import LabelEncoder\n",
        "le = LabelEncoder()\n",
        "y = le.fit_transform(y)"
      ],
      "metadata": {
        "id": "BSSiQ2DMr1XX",
        "execution": {
          "iopub.status.busy": "2023-08-05T10:51:16.260651Z",
          "iopub.execute_input": "2023-08-05T10:51:16.261004Z",
          "iopub.status.idle": "2023-08-05T10:51:16.783232Z",
          "shell.execute_reply.started": "2023-08-05T10:51:16.260976Z",
          "shell.execute_reply": "2023-08-05T10:51:16.782138Z"
        },
        "trusted": true
      },
      "execution_count": 7,
      "outputs": []
    },
    {
      "cell_type": "code",
      "source": [
        "from sklearn.utils import shuffle\n",
        "X_sh, y_sh = shuffle(X, y, random_state=42)"
      ],
      "metadata": {
        "id": "FeEcqHQ1sSRr",
        "execution": {
          "iopub.status.busy": "2023-08-05T10:51:24.128116Z",
          "iopub.execute_input": "2023-08-05T10:51:24.12913Z",
          "iopub.status.idle": "2023-08-05T10:51:24.422323Z",
          "shell.execute_reply.started": "2023-08-05T10:51:24.129068Z",
          "shell.execute_reply": "2023-08-05T10:51:24.421307Z"
        },
        "trusted": true
      },
      "execution_count": 8,
      "outputs": []
    },
    {
      "cell_type": "code",
      "source": [
        "from keras.models import Sequential\n",
        "from keras.layers import Conv2D, Flatten, MaxPooling2D, Dense"
      ],
      "metadata": {
        "id": "rUEeMhg3sk_3",
        "execution": {
          "iopub.status.busy": "2023-08-05T10:51:24.424225Z",
          "iopub.execute_input": "2023-08-05T10:51:24.424626Z",
          "iopub.status.idle": "2023-08-05T10:51:33.074848Z",
          "shell.execute_reply.started": "2023-08-05T10:51:24.424591Z",
          "shell.execute_reply": "2023-08-05T10:51:33.073808Z"
        },
        "trusted": true
      },
      "execution_count": 9,
      "outputs": []
    },
    {
      "cell_type": "code",
      "source": [
        "model = Sequential()"
      ],
      "metadata": {
        "id": "bajnM7Pzw_0S",
        "execution": {
          "iopub.status.busy": "2023-08-05T10:51:33.076966Z",
          "iopub.execute_input": "2023-08-05T10:51:33.077695Z",
          "iopub.status.idle": "2023-08-05T10:51:37.378939Z",
          "shell.execute_reply.started": "2023-08-05T10:51:33.077658Z",
          "shell.execute_reply": "2023-08-05T10:51:37.377951Z"
        },
        "trusted": true
      },
      "execution_count": 10,
      "outputs": []
    },
    {
      "cell_type": "code",
      "source": [
        "model.add(Conv2D(filters=16, kernel_size=(3,3), activation='relu', input_shape=(64,64,3)))\n",
        "model.add(MaxPooling2D())\n",
        "model.add(Conv2D(filters=32, kernel_size=(3,3),  activation='relu'))\n",
        "model.add(MaxPooling2D())\n",
        "model.add(Conv2D(filters=64, kernel_size=(3,3),  activation='relu'))\n",
        "model.add(MaxPooling2D())\n",
        "model.add(Conv2D(filters=128, kernel_size=(3,3), activation='relu'))\n",
        "model.add(Flatten())\n",
        "model.add(Dense(units=128, activation='relu'))\n",
        "model.add(Dense(units=64, activation='relu'))\n",
        "model.add(Dense(units=36, activation='softmax'))"
      ],
      "metadata": {
        "id": "WaTM6lXMxHBm",
        "execution": {
          "iopub.status.busy": "2023-08-05T10:51:37.380523Z",
          "iopub.execute_input": "2023-08-05T10:51:37.380875Z",
          "iopub.status.idle": "2023-08-05T10:51:37.539974Z",
          "shell.execute_reply.started": "2023-08-05T10:51:37.380843Z",
          "shell.execute_reply": "2023-08-05T10:51:37.539034Z"
        },
        "trusted": true,
        "colab": {
          "base_uri": "https://localhost:8080/"
        },
        "outputId": "349525b3-342a-4edc-8383-93f2278556e6"
      },
      "execution_count": 11,
      "outputs": [
        {
          "output_type": "stream",
          "name": "stderr",
          "text": [
            "/usr/local/lib/python3.10/dist-packages/keras/src/layers/convolutional/base_conv.py:107: UserWarning: Do not pass an `input_shape`/`input_dim` argument to a layer. When using Sequential models, prefer using an `Input(shape)` object as the first layer in the model instead.\n",
            "  super().__init__(activity_regularizer=activity_regularizer, **kwargs)\n"
          ]
        }
      ]
    },
    {
      "cell_type": "code",
      "source": [
        "model.compile(optimizer='adam', loss='sparse_categorical_crossentropy', metrics = ['accuracy'])"
      ],
      "metadata": {
        "id": "TRHSmbG9zj9c",
        "execution": {
          "iopub.status.busy": "2023-08-05T10:51:37.5421Z",
          "iopub.execute_input": "2023-08-05T10:51:37.542445Z",
          "iopub.status.idle": "2023-08-05T10:51:37.558993Z",
          "shell.execute_reply.started": "2023-08-05T10:51:37.542414Z",
          "shell.execute_reply": "2023-08-05T10:51:37.558124Z"
        },
        "trusted": true
      },
      "execution_count": 12,
      "outputs": []
    },
    {
      "cell_type": "code",
      "source": [
        "history = model.fit(X_sh, y_sh ,validation_split=0.2, batch_size=25, epochs=10)"
      ],
      "metadata": {
        "id": "mvA1MYyYz3UD",
        "outputId": "45771e62-e00a-4248-bce5-316f37041ce6",
        "execution": {
          "iopub.status.busy": "2023-08-05T10:51:37.560279Z",
          "iopub.execute_input": "2023-08-05T10:51:37.56069Z",
          "iopub.status.idle": "2023-08-05T10:53:02.192487Z",
          "shell.execute_reply.started": "2023-08-05T10:51:37.560658Z",
          "shell.execute_reply": "2023-08-05T10:53:02.191332Z"
        },
        "trusted": true,
        "colab": {
          "base_uri": "https://localhost:8080/"
        }
      },
      "execution_count": 13,
      "outputs": [
        {
          "output_type": "stream",
          "name": "stdout",
          "text": [
            "Epoch 1/10\n",
            "\u001b[1m661/661\u001b[0m \u001b[32m━━━━━━━━━━━━━━━━━━━━\u001b[0m\u001b[37m\u001b[0m \u001b[1m64s\u001b[0m 93ms/step - accuracy: 0.5674 - loss: 1.6179 - val_accuracy: 0.9227 - val_loss: 0.2686\n",
            "Epoch 2/10\n",
            "\u001b[1m661/661\u001b[0m \u001b[32m━━━━━━━━━━━━━━━━━━━━\u001b[0m\u001b[37m\u001b[0m \u001b[1m80s\u001b[0m 90ms/step - accuracy: 0.9366 - loss: 0.2225 - val_accuracy: 0.9355 - val_loss: 0.2245\n",
            "Epoch 3/10\n",
            "\u001b[1m661/661\u001b[0m \u001b[32m━━━━━━━━━━━━━━━━━━━━\u001b[0m\u001b[37m\u001b[0m \u001b[1m82s\u001b[0m 91ms/step - accuracy: 0.9534 - loss: 0.1351 - val_accuracy: 0.9404 - val_loss: 0.1984\n",
            "Epoch 4/10\n",
            "\u001b[1m661/661\u001b[0m \u001b[32m━━━━━━━━━━━━━━━━━━━━\u001b[0m\u001b[37m\u001b[0m \u001b[1m82s\u001b[0m 91ms/step - accuracy: 0.9636 - loss: 0.1029 - val_accuracy: 0.9450 - val_loss: 0.1842\n",
            "Epoch 5/10\n",
            "\u001b[1m661/661\u001b[0m \u001b[32m━━━━━━━━━━━━━━━━━━━━\u001b[0m\u001b[37m\u001b[0m \u001b[1m83s\u001b[0m 93ms/step - accuracy: 0.9674 - loss: 0.0852 - val_accuracy: 0.9530 - val_loss: 0.1667\n",
            "Epoch 6/10\n",
            "\u001b[1m661/661\u001b[0m \u001b[32m━━━━━━━━━━━━━━━━━━━━\u001b[0m\u001b[37m\u001b[0m \u001b[1m88s\u001b[0m 102ms/step - accuracy: 0.9746 - loss: 0.0668 - val_accuracy: 0.9426 - val_loss: 0.2009\n",
            "Epoch 7/10\n",
            "\u001b[1m661/661\u001b[0m \u001b[32m━━━━━━━━━━━━━━━━━━━━\u001b[0m\u001b[37m\u001b[0m \u001b[1m76s\u001b[0m 93ms/step - accuracy: 0.9717 - loss: 0.0766 - val_accuracy: 0.9510 - val_loss: 0.1988\n",
            "Epoch 8/10\n",
            "\u001b[1m661/661\u001b[0m \u001b[32m━━━━━━━━━━━━━━━━━━━━\u001b[0m\u001b[37m\u001b[0m \u001b[1m81s\u001b[0m 92ms/step - accuracy: 0.9815 - loss: 0.0463 - val_accuracy: 0.9481 - val_loss: 0.1876\n",
            "Epoch 9/10\n",
            "\u001b[1m661/661\u001b[0m \u001b[32m━━━━━━━━━━━━━━━━━━━━\u001b[0m\u001b[37m\u001b[0m \u001b[1m82s\u001b[0m 92ms/step - accuracy: 0.9782 - loss: 0.0584 - val_accuracy: 0.9525 - val_loss: 0.1869\n",
            "Epoch 10/10\n",
            "\u001b[1m661/661\u001b[0m \u001b[32m━━━━━━━━━━━━━━━━━━━━\u001b[0m\u001b[37m\u001b[0m \u001b[1m59s\u001b[0m 89ms/step - accuracy: 0.9771 - loss: 0.0627 - val_accuracy: 0.9544 - val_loss: 0.1684\n"
          ]
        }
      ]
    },
    {
      "cell_type": "code",
      "source": [
        "import matplotlib.pyplot as plt\n",
        "plt.plot(history.history['loss'])\n",
        "plt.plot(history.history['val_loss'])\n",
        "plt.legend(['loss', 'val_loss'])"
      ],
      "metadata": {
        "id": "gwIDtZF80G83",
        "outputId": "94049d70-50a5-4072-882e-f3664c3ed697",
        "execution": {
          "iopub.status.busy": "2023-08-05T10:53:02.194021Z",
          "iopub.execute_input": "2023-08-05T10:53:02.194416Z",
          "iopub.status.idle": "2023-08-05T10:53:02.524844Z",
          "shell.execute_reply.started": "2023-08-05T10:53:02.194376Z",
          "shell.execute_reply": "2023-08-05T10:53:02.523928Z"
        },
        "trusted": true,
        "colab": {
          "base_uri": "https://localhost:8080/",
          "height": 447
        }
      },
      "execution_count": 14,
      "outputs": [
        {
          "output_type": "execute_result",
          "data": {
            "text/plain": [
              "<matplotlib.legend.Legend at 0x7c8873dca410>"
            ]
          },
          "metadata": {},
          "execution_count": 14
        },
        {
          "output_type": "display_data",
          "data": {
            "text/plain": [
              "<Figure size 640x480 with 1 Axes>"
            ],
            "image/png": "[encoded data removed]"
          },
          "metadata": {}
        }
      ]
    },
    {
      "cell_type": "code",
      "source": [
        "test_images = []\n",
        "test_labels = []\n",
        "\n",
        "path = preatcher_standard_ocr_dataset_path  # This assumes preatcher_standard_ocr_dataset_path holds the correct dataset path\n",
        "\n",
        "# If the data is in a subfolder within the downloaded dataset, adjust the path accordingly\n",
        "path = os.path.join(path, 'data', 'testing_data')\n",
        "\n",
        "dir_list = os.listdir(path)\n",
        "for i in dir_list:\n",
        "  dir = os.path.join(path, i)\n",
        "  file_list = os.listdir(dir)\n",
        "  for j in file_list:\n",
        "    files = os.path.join(dir, j)\n",
        "    img = cv2.imread(files)\n",
        "    img = cv2.resize(img, (64,64))\n",
        "    img = np.array(img, dtype=np.float32)\n",
        "    img = img/255\n",
        "    test_images.append(img)\n",
        "    test_labels.append(i)\n"
      ],
      "metadata": {
        "id": "NnwD5QABNqdP",
        "execution": {
          "iopub.status.busy": "2023-08-05T10:53:07.180544Z",
          "iopub.execute_input": "2023-08-05T10:53:07.180902Z",
          "iopub.status.idle": "2023-08-05T10:53:10.338973Z",
          "shell.execute_reply.started": "2023-08-05T10:53:07.180872Z",
          "shell.execute_reply": "2023-08-05T10:53:10.336203Z"
        },
        "trusted": true
      },
      "execution_count": 15,
      "outputs": []
    },
    {
      "cell_type": "code",
      "source": [
        "X_test = np.array(test_images)\n",
        "y_test = np.array(test_labels)"
      ],
      "metadata": {
        "id": "2JTH7iV0O6-b",
        "execution": {
          "iopub.status.busy": "2023-08-05T10:53:11.330432Z",
          "iopub.execute_input": "2023-08-05T10:53:11.33163Z",
          "iopub.status.idle": "2023-08-05T10:53:11.354888Z",
          "shell.execute_reply.started": "2023-08-05T10:53:11.331589Z",
          "shell.execute_reply": "2023-08-05T10:53:11.353894Z"
        },
        "trusted": true
      },
      "execution_count": 16,
      "outputs": []
    },
    {
      "cell_type": "code",
      "source": [
        "from sklearn.preprocessing import LabelEncoder\n",
        "le = LabelEncoder()\n",
        "y_test = le.fit_transform(y_test)"
      ],
      "metadata": {
        "id": "UYEpFsC9PJ7v",
        "execution": {
          "iopub.status.busy": "2023-08-05T10:53:12.218857Z",
          "iopub.execute_input": "2023-08-05T10:53:12.219229Z",
          "iopub.status.idle": "2023-08-05T10:53:12.224882Z",
          "shell.execute_reply.started": "2023-08-05T10:53:12.219199Z",
          "shell.execute_reply": "2023-08-05T10:53:12.223963Z"
        },
        "trusted": true
      },
      "execution_count": 17,
      "outputs": []
    },
    {
      "cell_type": "code",
      "source": [
        "test_loss, test_accuracy = model.evaluate(X_test, y_test)"
      ],
      "metadata": {
        "id": "z35HKNS-PRyE",
        "outputId": "0f84d63b-02e6-412e-c73a-c94917460db3",
        "execution": {
          "iopub.status.busy": "2023-08-05T10:53:13.204455Z",
          "iopub.execute_input": "2023-08-05T10:53:13.204818Z",
          "iopub.status.idle": "2023-08-05T10:53:13.770049Z",
          "shell.execute_reply.started": "2023-08-05T10:53:13.204788Z",
          "shell.execute_reply": "2023-08-05T10:53:13.768974Z"
        },
        "trusted": true,
        "colab": {
          "base_uri": "https://localhost:8080/"
        }
      },
      "execution_count": 18,
      "outputs": [
        {
          "output_type": "stream",
          "name": "stdout",
          "text": [
            "\u001b[1m32/32\u001b[0m \u001b[32m━━━━━━━━━━━━━━━━━━━━\u001b[0m\u001b[37m\u001b[0m \u001b[1m1s\u001b[0m 30ms/step - accuracy: 0.9919 - loss: 0.0464\n"
          ]
        }
      ]
    },
    {
      "cell_type": "code",
      "source": [
        "print(test_loss,test_accuracy )"
      ],
      "metadata": {
        "id": "otOcGVf-PnG9",
        "outputId": "f3ec4174-e286-4f39-e2d8-7ebae87e6db2",
        "execution": {
          "iopub.status.busy": "2023-08-05T10:53:15.934221Z",
          "iopub.execute_input": "2023-08-05T10:53:15.934767Z",
          "iopub.status.idle": "2023-08-05T10:53:15.940403Z",
          "shell.execute_reply.started": "2023-08-05T10:53:15.934735Z",
          "shell.execute_reply": "2023-08-05T10:53:15.939423Z"
        },
        "trusted": true,
        "colab": {
          "base_uri": "https://localhost:8080/"
        }
      },
      "execution_count": 19,
      "outputs": [
        {
          "output_type": "stream",
          "name": "stdout",
          "text": [
            "0.054594479501247406 0.9811508059501648\n"
          ]
        }
      ]
    },
    {
      "cell_type": "code",
      "source": [],
      "metadata": {
        "id": "tTjj2jcjP5vn"
      },
      "execution_count": 19,
      "outputs": []
    }
  ]
}